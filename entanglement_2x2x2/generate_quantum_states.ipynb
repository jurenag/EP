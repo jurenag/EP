{
 "metadata": {
  "language_info": {
   "codemirror_mode": {
    "name": "ipython",
    "version": 3
   },
   "file_extension": ".py",
   "mimetype": "text/x-python",
   "name": "python",
   "nbconvert_exporter": "python",
   "pygments_lexer": "ipython3",
   "version": "3.8.5"
  },
  "orig_nbformat": 2,
  "kernelspec": {
   "name": "python3",
   "display_name": "Python 3",
   "language": "python"
  }
 },
 "nbformat": 4,
 "nbformat_minor": 2,
 "cells": [
  {
   "cell_type": "code",
   "execution_count": 6,
   "metadata": {},
   "outputs": [],
   "source": [
    "#Python libraries\n",
    "import numpy as np\n",
    "from numpy.random import Generator, PCG64\n",
    "from scipy import constants as sp\n",
    "import time\n",
    "import copy\n",
    "import os"
   ]
  },
  {
   "cell_type": "code",
   "execution_count": 7,
   "metadata": {},
   "outputs": [],
   "source": [
    "from modules.generate_quantum_states import generate_random_quantum_states_dataset "
   ]
  },
  {
   "cell_type": "code",
   "execution_count": 8,
   "metadata": {},
   "outputs": [],
   "source": [
    "cwd = os.getcwd()\n",
    "sys.path.append(cwd+'/modules')"
   ]
  },
  {
   "cell_type": "code",
   "execution_count": 9,
   "metadata": {},
   "outputs": [],
   "source": [
    "seed = int(time.time())\n",
    "rng = Generator(PCG64(int(seed)))"
   ]
  },
  {
   "cell_type": "code",
   "execution_count": 12,
   "metadata": {},
   "outputs": [],
   "source": [
    "outpath = cwd+'/input_data/100k/GHZ&W.txt'\n",
    "N = 100000"
   ]
  },
  {
   "cell_type": "code",
   "execution_count": 13,
   "metadata": {},
   "outputs": [],
   "source": [
    " generate_random_quantum_states_dataset(N, rng, outpath, entanglement_type=['GHZ','W'], sep='\\t')"
   ]
  },
  {
   "source": [
    "# 1. Teoría"
   ],
   "cell_type": "markdown",
   "metadata": {}
  },
  {
   "source": [
    "# 1.1. Sobre la generación de estados con entrelazamiento bipartito"
   ],
   "cell_type": "markdown",
   "metadata": {}
  },
  {
   "source": [
    "Vamos a seguir una estrategia que se basa en la generación de estados de dos qubits que usamos en el estudio de $\\mathcal{H}_2\\otimes\\mathcal{H}_2$.\n",
    "\n",
    "Para un espacio, $\\mathcal{H}$, de dimensión $N$, podemos tomar una base $\\{|u_k\\rangle ,\\;\\; k=1,...,N\\equiv\\text{dim}(\\mathcal{H})\\}$, de modo que $\\forall|\\psi\\rangle\\in\\mathcal{H}$ se tiene:\n",
    "\n",
    ">\\begin{equation}\n",
    "|\\psi\\rangle = \\sum _{i=1}^{N} a_i|u_i\\rangle \\;\\;\\;\\text{con}\\;\\;\\;\\sum |a_i|^2 = 1 \\;\\;\\; a_i\\in\\mathbb{C}\n",
    "\\end{equation}\n",
    "\n",
    "En general $a_j = r_j e^{i\\phi _j}$ con $r_j>0$ y $\\phi_j\\in[0,2\\pi)$. Para llevar a cabo la generación de estados aleatorios computacionalmente, vamos a considerar $0\\leq r_j\\leq 1$. Hemos de notar que considerar una cota superior para los módulos, $r_j$, no resta generalidad en tanto que es necesario normalizar el estado. Esto es, considerando $0\\leq r_j\\leq 1$ podemos samplear todo el espacio (salvo los estados separables, luego discutiremos porqué). Por ejemplo, podremos samplear un estado en que la amplitud asociada a uno de los estados base, $|u_k\\rangle$ sea mucho mayor que la asociada al resto de estados. Para ello, simplemente tendrá que darse que para todos los estados $|u_j\\rangle$ con $j\\neq k$ se tenga $0\\leq r_j<<r_k\\leq 1$, de modo que al normalizar el estado por $\\sqrt{\\langle \\psi|\\psi\\rangle}=\\sqrt{\\sum r_i ^2}$ se tendrá la relación de amplitudes deseada. De igual modo, podremos samplear estados en los que las amplitudes asociadas a todos los estados base sean muy parecidas, lo cual se tendrá cuando $r_j\\simeq r_i$ $\\forall i,j=1,...,N$.\n",
    "\n",
    "\n",
    "Por otro lado, un estado separable se tendrá cuando $r_j=0$ $\\forall j\\neq k$. Puesto que para que se den este tipo de estados es necesario tener el 'cero' perfecto para los módulos de los coeficientes que acompañan a todos los estados base de $\\mathcal{H}$ salvo a uno de ellos, podemos imaginarnos dicho estado como un punto (una variedad sin dimensión) sumergido en el espacio $\\mathcal{H}$. Puesto que vamos a generar los módulos, $r_j$, y las fases, $\\phi _j$, haciendo uso de un generador (numérico) de números aleatorios, nunca vamos a samplear el cero perfecto, por lo que realmente nunca vamos a tener un estado separable.\n",
    "\n",
    "En el contexto del razonamiento que estábamos realizando hace dos párrafos, puedes comprobar que un estado $|\\psi\\rangle$ así construido (y normalizado) da lugar a una matriz densidad:\n",
    "\n",
    ">\\begin{equation}\n",
    "|\\psi\\rangle\\langle\\psi| \\doteq \\frac{1}{\\sum _i r_i ^2} \\sum _{j,k} \\tilde{c_{jk}} |u_j\\rangle\\langle u_k| \\;\\;\\;\\text{con}\\;\\;\\; \\tilde{c_{jk}} = r_jr_ke^{i(\\phi _j -\\phi _k})\n",
    "\\end{equation}\n",
    "\n",
    "Así pues, la representación matricial de $|\\psi\\rangle\\langle\\psi|$ viene dada por:\n",
    "\n",
    ">\\begin{equation}\n",
    "|\\psi\\rangle\\langle\\psi| \\doteq \\big(c_{jk}\\big)_{j,k=1,...,N} \\;\\;\\; \\text{con}\\;\\;\\; c_{jk} = \\frac{\\tilde{c_{jk}}}{\\sum _i r_i ^2} = \\frac{r_jr_ke^{i(\\phi_j -\\phi_k)}}{\\sum _i r_i ^2}\n",
    "\\end{equation}\n",
    "\n",
    "Esto es, $c_{jk}$ es el elemento de matriz que ocupa la fila $j$-ésima y la columna $k$-ésima. Hemos tomado implícitamente la base\n",
    "\n",
    ">\\begin{equation}\n",
    "|u_k\\rangle = \\big(\\delta _{ik}\\big)_{i=1,...,N}\n",
    "\\end{equation}\n",
    "\n",
    "Esto es, $|u_1\\rangle^{T}=(1,0,...,0)$.\n",
    "\n",
    "Si bien anteriormente nos interesaba estudiar la matriz densidad asociada al estado generado de $\\mathcal{H}_2\\otimes\\mathcal{H}_2$, ahora vamos a trabajar con los vectores estado de $\\mathcal{H}_2^{\\otimes ^3}$. Sin embargo, antes de calcular dicho vector de estado he de cerciorarme de que el estado de dos qubits que he generado es realmente entrelazado. Para aplicar el criterio de entrelazamiento que venimos usando en $\\mathcal{H}_2\\otimes\\mathcal{H}_2$ necesito su matriz densidad asociada (su producto exterior). Esto es, quiero generar estados de entrelazamiento bipartito, por tanto he de asegurarme de que el estado de dos qubits que he generado es realmente un estado entrelazado, antes de calcular su producto directo con el estado del tercer qubit. Así pues, el algoritmo a utilizar será:\n",
    "\n",
    "1) Generar 4 números aleatorios $0\\leq r_i\\leq 1$, $i=1,...,N$.\n",
    "\n",
    "2) Generar 4 números aleatorios $0\\leq \\phi_i< 2\\pi$, $i=1,...,N$.\n",
    "\n",
    "3) Construir la representación matricial $\\big(c_{jk}\\big)_{j,k=1,...,N}$ de acuerdo con la definición anterior.\n",
    "\n",
    "4) Calcular su negatividad, $\\lambda$. Si $\\lambda >0$, entonces genero un estado de un qubit y calculo su producto directo con el estado de dos qubits entrelazado que he generado anteriormente.\n",
    "\n",
    "5) Si $\\lambda =0$, desecho el estado generado y vuelvo a 1). (Por motivos numéricos, esto no ocurrirá nunca.)\n",
    "\n",
    "Además, la etiqueta del qubit que es separable del resto de qubits (1, 2 o 3) es escogida al azar en cada generación. Ahondaremos en esto en la propia función que implemente este algoritmo."
   ],
   "cell_type": "markdown",
   "metadata": {}
  }
 ]
}